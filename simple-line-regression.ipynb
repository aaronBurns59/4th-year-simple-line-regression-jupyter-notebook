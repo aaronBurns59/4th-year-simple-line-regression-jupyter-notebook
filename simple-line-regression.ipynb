{
 "cells": [
  {
   "cell_type": "code",
   "execution_count": 53,
   "metadata": {},
   "outputs": [
    {
     "data": {
      "image/png": "[encoded data removed]",
      "text/plain": [
       "<Figure size 432x288 with 1 Axes>"
      ]
     },
     "metadata": {
      "needs_background": "light"
     },
     "output_type": "display_data"
    }
   ],
   "source": [
    "# importing matplotlib for the ability to output graphes \n",
    "import matplotlib.pyplot as plt\n",
    "\n",
    "# plotting the graph that the lines will be displayed on\n",
    "# 'k' for black lines\n",
    "# y axis\n",
    "plt.plot([-1,10],[0,0],'k-')\n",
    "# x axis\n",
    "plt.plot([0,0], [-1,10], 'k-')\n",
    "\n",
    "# plotting lines on the graph ':' gives the line a broken look\n",
    "plt.plot([1,1],[-1,3], 'r:')\n",
    "plt.plot([-1,1],[3, 3], 'b:')\n",
    "\n",
    "# ploting two points on the graph without connecting them\n",
    "plt.plot([1, 2], [3, 5], 'ko')\n",
    "\n",
    "# a new line that intersects the previous two points\n",
    "plt.plot([-1, 10], [-1, 21], 'g-')\n",
    "\n",
    "# Set some reasonable plot limits.\n",
    "plt.xlim([-1, 10])\n",
    "plt.ylim([-1, 10])\n",
    "\n",
    "# shows the full graph\n",
    "plt.show()\n"
   ]
  },
  {
   "cell_type": "code",
   "execution_count": 55,
   "metadata": {},
   "outputs": [],
   "source": [
    "%matplotlib inline\n",
    "\n",
    "import numpy as np\n",
    "import matplotlib.pyplot as plt\n"
   ]
  },
  {
   "cell_type": "code",
   "execution_count": null,
   "metadata": {},
   "outputs": [],
   "source": []
  }
 ],
 "metadata": {
  "kernelspec": {
   "display_name": "Python 3",
   "language": "python",
   "name": "python3"
  },
  "language_info": {
   "codemirror_mode": {
    "name": "ipython",
    "version": 3
   },
   "file_extension": ".py",
   "mimetype": "text/x-python",
   "name": "python",
   "nbconvert_exporter": "python",
   "pygments_lexer": "ipython3",
   "version": "3.7.1"
  }
 },
 "nbformat": 4,
 "nbformat_minor": 2
}
