{
 "cells": [
  {
   "cell_type": "code",
   "execution_count": 30,
   "metadata": {},
   "outputs": [
    {
     "data": {
      "text/plain": [
       "[<matplotlib.lines.Line2D at 0x17a71940780>]"
      ]
     },
     "execution_count": 30,
     "metadata": {},
     "output_type": "execute_result"
    },
    {
     "data": {
      "image/png": "[encoded data removed]",
      "text/plain": [
       "<Figure size 432x288 with 1 Axes>"
      ]
     },
     "metadata": {
      "needs_background": "light"
     },
     "output_type": "display_data"
    }
   ],
   "source": [
    "# importing matplotlib for the ability to output graphes \n",
    "import matplotlib.pyplot as plt\n",
    "\n",
    "# plotting the graph that the lines will be displayed on\n",
    "# 'k' for black lines\n",
    "# y axis\n",
    "plt.plot([0,0],[-1,10],'k')\n",
    "# x axis\n",
    "plt.plot([-1,10], [0,0], 'k')\n",
    "\n",
    "# plotting lines on the graph\n",
    "plt.plot([1,1],[-1,3], 'r')\n",
    "plt.plot([-1,1],[3, 3], 'b')\n",
    "\n",
    "# ploting two points on the graph\n",
    "\n",
    "\n",
    "plt.plot([2,4],[10,2], 'g')\n",
    "\n"
   ]
  },
  {
   "cell_type": "code",
   "execution_count": null,
   "metadata": {},
   "outputs": [],
   "source": []
  }
 ],
 "metadata": {
  "kernelspec": {
   "display_name": "Python 3",
   "language": "python",
   "name": "python3"
  },
  "language_info": {
   "codemirror_mode": {
    "name": "ipython",
    "version": 3
   },
   "file_extension": ".py",
   "mimetype": "text/x-python",
   "name": "python",
   "nbconvert_exporter": "python",
   "pygments_lexer": "ipython3",
   "version": "3.7.1"
  }
 },
 "nbformat": 4,
 "nbformat_minor": 2
}
